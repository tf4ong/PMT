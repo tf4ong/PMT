{
 "cells": [
  {
   "cell_type": "code",
   "execution_count": 1,
   "metadata": {},
   "outputs": [
    {
     "ename": "ModuleNotFoundError",
     "evalue": "No module named 'PyRodentTracks'",
     "output_type": "error",
     "traceback": [
      "\u001b[1;31m---------------------------------------------------------------------------\u001b[0m",
      "\u001b[1;31mModuleNotFoundError\u001b[0m                       Traceback (most recent call last)",
      "\u001b[1;32m~\\AppData\\Local\\Temp\\ipykernel_6988\\1035730128.py\u001b[0m in \u001b[0;36m<module>\u001b[1;34m\u001b[0m\n\u001b[1;32m----> 1\u001b[1;33m \u001b[1;32mfrom\u001b[0m \u001b[0mPyRodentTracks\u001b[0m \u001b[1;32mimport\u001b[0m \u001b[0mPRT\u001b[0m\u001b[1;33m\u001b[0m\u001b[0m\n\u001b[0m\u001b[0;32m      2\u001b[0m \u001b[1;32mimport\u001b[0m \u001b[0mnumpy\u001b[0m \u001b[1;32mas\u001b[0m \u001b[0mnp\u001b[0m\u001b[1;33m\u001b[0m\u001b[0m\n\u001b[0;32m      3\u001b[0m \u001b[1;32mimport\u001b[0m \u001b[0mos\u001b[0m\u001b[1;33m\u001b[0m\u001b[0m\n\u001b[0;32m      4\u001b[0m \u001b[1;32mimport\u001b[0m \u001b[0mpandas\u001b[0m \u001b[1;32mas\u001b[0m \u001b[0mpd\u001b[0m\u001b[1;33m\u001b[0m\u001b[0m\n\u001b[0;32m      5\u001b[0m \u001b[1;32mimport\u001b[0m \u001b[0mtime\u001b[0m\u001b[1;33m\u001b[0m\u001b[0m\n",
      "\u001b[1;31mModuleNotFoundError\u001b[0m: No module named 'PyRodentTracks'"
     ]
    }
   ],
   "source": [
    "from PyRodentTracks import PRT\n",
    "import numpy as np\n",
    "import os\n",
    "import pandas as pd\n",
    "import time "
   ]
  },
  {
   "cell_type": "code",
   "execution_count": 3,
   "metadata": {},
   "outputs": [],
   "source": [
    "import extract_frames2label as et\n",
    "import os"
   ]
  },
  {
   "cell_type": "code",
   "execution_count": 4,
   "metadata": {},
   "outputs": [],
   "source": [
    "os.mkdir('D:/tracker_test/labelled')"
   ]
  },
  {
   "cell_type": "code",
   "execution_count": 6,
   "metadata": {},
   "outputs": [],
   "source": [
    "vids=['raw.avi', 't1.avi', 't5.avi']\n",
    "vids =['D:/tracker_test/'+i for i in vids ]"
   ]
  },
  {
   "cell_type": "code",
   "execution_count": 5,
   "metadata": {},
   "outputs": [
    {
     "data": {
      "text/plain": [
       "1647075125.5893931"
      ]
     },
     "execution_count": 5,
     "metadata": {},
     "output_type": "execute_result"
    }
   ],
   "source": [
    "import time\n",
    "time.time()"
   ]
  },
  {
   "cell_type": "code",
   "execution_count": 7,
   "metadata": {},
   "outputs": [
    {
     "name": "stdout",
     "output_type": "stream",
     "text": [
      "Kmeans-quantization based extracting of frames from 0.0  seconds to 0.0  seconds.\n",
      "finished extracting 20 from video:\n",
      "D:/tracker_test/raw.avi\n",
      "Kmeans-quantization based extracting of frames from 0.0  seconds to 16838.45  seconds.\n",
      "Extracting and downsampling... 336769  frames from the video.\n"
     ]
    },
    {
     "name": "stderr",
     "output_type": "stream",
     "text": [
      "336769it [04:10, 1344.19it/s]\n"
     ]
    },
    {
     "name": "stdout",
     "output_type": "stream",
     "text": [
      "Kmeans clustering ... (this might take a while)\n",
      "finished extracting 20 from video:\n",
      "D:/tracker_test/t1.avi\n",
      "Kmeans-quantization based extracting of frames from 0.0  seconds to 40277.87  seconds.\n",
      "Extracting and downsampling... 604168  frames from the video.\n"
     ]
    },
    {
     "name": "stderr",
     "output_type": "stream",
     "text": [
      "604168it [07:29, 1345.22it/s]\n"
     ]
    },
    {
     "name": "stdout",
     "output_type": "stream",
     "text": [
      "Kmeans clustering ... (this might take a while)\n",
      "finished extracting 20 from video:\n",
      "D:/tracker_test/t5.avi\n"
     ]
    }
   ],
   "source": [
    "for i in vids:\n",
    "    et.extract_frames(i,20,'D:/tracker_test/labelled')"
   ]
  },
  {
   "cell_type": "code",
   "execution_count": 4,
   "metadata": {},
   "outputs": [
    {
     "name": "stdout",
     "output_type": "stream",
     "text": [
      "Kmeans-quantization based extracting of frames from 0.0  seconds to 581.0  seconds.\n",
      "Extracting and downsampling... 8715  frames from the video.\n"
     ]
    },
    {
     "name": "stderr",
     "output_type": "stream",
     "text": [
      "8715it [00:06, 1345.62it/s]\n"
     ]
    },
    {
     "name": "stdout",
     "output_type": "stream",
     "text": [
      "Kmeans clustering ... (this might take a while)\n",
      "finished extracting 30 from video:\n",
      "E:/test_old/raw.avi\n"
     ]
    }
   ],
   "source": [
    "#for i in vids:\n",
    "et.extract_frames('E:/test_old/raw.avi',20,'D:/tracker_test/labelled')"
   ]
  },
  {
   "cell_type": "code",
   "execution_count": 2,
   "metadata": {},
   "outputs": [
    {
     "name": "stdout",
     "output_type": "stream",
     "text": [
      "445 Tags were read in 599.9291288852692 seconds\n"
     ]
    },
    {
     "name": "stderr",
     "output_type": "stream",
     "text": [
      "Assigning Sort ID to bboxes: 100%|██████████| 19729/19729 [00:27<00:00, 718.08it/s]\n",
      "Inserting Kalmen filter predictions: 100%|██████████| 19729/19729 [00:20<00:00, 952.64it/s] \n",
      "Reconnecting IDs:: 100%|██████████| 19729/19729 [00:47<00:00, 411.34it/s]5 [00:09<02:40,  2.68it/s]\n",
      "Starting to match RFID readings from Cage readers: 100%|██████████| 445/445 [02:17<00:00,  3.25it/s]\n",
      "Starting Left over Tag match comphrensive loop 1: 100%|██████████| 142/142 [00:05<00:00, 27.37it/s]\n",
      "Matching last tag in frame:  53%|█████▎    | 184/345 [00:00<00:00, 1838.40it/s]"
     ]
    },
    {
     "name": "stdout",
     "output_type": "stream",
     "text": [
      "99.84870877751445\n"
     ]
    },
    {
     "name": "stderr",
     "output_type": "stream",
     "text": [
      "Matching last tag in frame: 100%|██████████| 345/345 [00:01<00:00, 172.92it/s] \n",
      "  0%|          | 2/19729 [00:00<19:41, 16.70it/s]"
     ]
    },
    {
     "name": "stdout",
     "output_type": "stream",
     "text": [
      "/home/tony/alt_tracker/tests/alter_test1\n"
     ]
    },
    {
     "name": "stderr",
     "output_type": "stream",
     "text": [
      "100%|█████████▉| 19728/19729 [04:38<00:00, 74.23it/s]%|██████████| 21/21 [00:17<00:00, 35.56it/s]"
     ]
    }
   ],
   "source": [
    "paths='/home/tony/alt_tracker/tests/'\n",
    "config_path='/home/tony/alt_tracker/tests/config.ini'\n",
    "coverage=[]\n",
    "vids=[paths+folder for folder in os.listdir(paths) if folder[-4:]!='.txt' and folder[-4:] !='ions' and folder[-4:]!='.csv' and folder[-4:]!='.ini']\n",
    "vids=[vids[1]]\n",
    "for path in vids:\n",
    "    with open(path+'/'+'logs.txt','r') as f:\n",
    "        tags=f.readlines()\n",
    "        tags=[int(i) for i in tags[1][6:].split(',')]\n",
    "    test2=PSYCO(path,config_path)\n",
    "    #test2.detect_mice()\n",
    "    test2.load_RFID()\n",
    "    test2.load_dets()\n",
    "    _,_,cov=test2.RFID_match()\n",
    "    test2.find_activte_mice()\n",
    "#test2.generate_validation_video()\n",
    "test2.generate_labeled_video()"
   ]
  },
  {
   "cell_type": "code",
   "execution_count": 2,
   "metadata": {},
   "outputs": [
    {
     "name": "stdout",
     "output_type": "stream",
     "text": [
      "Already analyzed. Found RFID_tracks.csv file in path\n",
      "Loaded RFID_tracks.csv at path E:/test_old/\n"
     ]
    }
   ],
   "source": [
    "path = 'E:/test_old/'\n",
    "config_path = 'C:/Users/Tony/PRT/PRT/configs/config.ini'\n",
    "with open(path+'logs.txt','r') as f:\n",
    "    tags=f.readlines()\n",
    "    tags=[int(i) for i in tags[1][6:].split(',')]\n",
    "    test2=PRT(path,config_path)"
   ]
  },
  {
   "cell_type": "code",
   "execution_count": 3,
   "metadata": {},
   "outputs": [
    {
     "name": "stdout",
     "output_type": "stream",
     "text": [
      "Starting to yolov4 and motion detection process on  E:/test_old//raw.avi\n"
     ]
    },
    {
     "name": "stderr",
     "output_type": "stream",
     "text": [
      "100%|██████████████████████████████████████████████████████████████████████████████| 8715/8715 [03:08<00:00, 46.32it/s]"
     ]
    },
    {
     "name": "stdout",
     "output_type": "stream",
     "text": [
      "Mice Detection and motion detection complete for folder E:/test_old/\n",
      "Results saved in E:/test_old//yolo_dets.csv\n"
     ]
    },
    {
     "name": "stderr",
     "output_type": "stream",
     "text": [
      "\n"
     ]
    }
   ],
   "source": [
    "test2.detect_mice()"
   ]
  },
  {
   "cell_type": "code",
   "execution_count": 7,
   "metadata": {},
   "outputs": [
    {
     "name": "stdout",
     "output_type": "stream",
     "text": [
      "68 Tags were read in 600.057427406311 seconds\n"
     ]
    },
    {
     "name": "stderr",
     "output_type": "stream",
     "text": [
      "Assigning Sort ID to bboxes: 100%|███████████████████████████████████████████████| 8715/8715 [00:03<00:00, 2225.51it/s]\n",
      "Checking frames for occlusions/yolov4 fails: 100%|██████████████████████████████| 8714/8714 [00:00<00:00, 37690.51it/s]\n",
      "Checking Kalmen filter predictions at frames with occlusions/yolov4 fails: 100%|███| 716/716 [00:00<00:00, 1106.55it/s]\n"
     ]
    },
    {
     "name": "stdout",
     "output_type": "stream",
     "text": [
      "Removed sort ids [] for possible false positives\n"
     ]
    },
    {
     "name": "stderr",
     "output_type": "stream",
     "text": [
      "Starting to match RFID readings from entrance reader: 100%|████████████████████████████| 7/7 [00:00<00:00, 1271.94it/s]\n",
      "Starting to match RFID readings from Cage readers: 100%|███████████████████████████████| 61/61 [00:14<00:00,  4.33it/s]\n",
      "Starting Left over Tag match comphrensive loop 1: 100%|████████████████████████████████| 61/61 [00:02<00:00, 23.77it/s]\n",
      "Starting Left over Tag match comphrensive loop 2: 100%|████████████████████████████████| 26/26 [00:00<00:00, 49.20it/s]\n",
      "Starting Left over Tag match comphrensive loop 3: 100%|████████████████████████████████| 26/26 [00:00<00:00, 49.06it/s]\n",
      "Starting Left over Tag match comphrensive loop 4: 100%|████████████████████████████████| 26/26 [00:00<00:00, 54.12it/s]\n",
      "Matching last tag in frame: 100%|████████████████████████████████████████████████| 1157/1157 [00:00<00:00, 2115.29it/s]\n"
     ]
    },
    {
     "name": "stdout",
     "output_type": "stream",
     "text": [
      "94.27814680904734 % of mice detected were matched with an RFID tag\n"
     ]
    },
    {
     "data": {
      "text/html": [
       "<div>\n",
       "<style scoped>\n",
       "    .dataframe tbody tr th:only-of-type {\n",
       "        vertical-align: middle;\n",
       "    }\n",
       "\n",
       "    .dataframe tbody tr th {\n",
       "        vertical-align: top;\n",
       "    }\n",
       "\n",
       "    .dataframe thead th {\n",
       "        text-align: right;\n",
       "    }\n",
       "</style>\n",
       "<table border=\"1\" class=\"dataframe\">\n",
       "  <thead>\n",
       "    <tr style=\"text-align: right;\">\n",
       "      <th></th>\n",
       "      <th>frame</th>\n",
       "      <th>Time</th>\n",
       "      <th>sort_tracks</th>\n",
       "      <th>RFID_tracks</th>\n",
       "      <th>ious_interaction</th>\n",
       "      <th>Interactions</th>\n",
       "      <th>motion</th>\n",
       "      <th>motion_roi</th>\n",
       "      <th>RFID_matched</th>\n",
       "      <th>RFID_readings</th>\n",
       "      <th>Correction</th>\n",
       "      <th>Matching_details</th>\n",
       "      <th>Activity</th>\n",
       "    </tr>\n",
       "  </thead>\n",
       "  <tbody>\n",
       "    <tr>\n",
       "      <th>0</th>\n",
       "      <td>0</td>\n",
       "      <td>1.609101e+09</td>\n",
       "      <td>[[65, 217, 146, 292, 1]]</td>\n",
       "      <td>[[65, 217, 146, 292, 2016050811]]</td>\n",
       "      <td>{}</td>\n",
       "      <td>{2016080244: [], 2016050811: [], 2016050855: []}</td>\n",
       "      <td>No_motion</td>\n",
       "      <td>[]</td>\n",
       "      <td>[]</td>\n",
       "      <td>NaN</td>\n",
       "      <td>[]</td>\n",
       "      <td>[]</td>\n",
       "      <td>{2016050811: 'Non_active', 2016080244: 'Not_tr...</td>\n",
       "    </tr>\n",
       "    <tr>\n",
       "      <th>1</th>\n",
       "      <td>1</td>\n",
       "      <td>1.609101e+09</td>\n",
       "      <td>[[65, 217, 145, 296, 1]]</td>\n",
       "      <td>[[65, 217, 145, 296, 2016050811]]</td>\n",
       "      <td>{}</td>\n",
       "      <td>{2016080244: [], 2016050811: [], 2016050855: []}</td>\n",
       "      <td>No_motion</td>\n",
       "      <td>[]</td>\n",
       "      <td>[]</td>\n",
       "      <td>NaN</td>\n",
       "      <td>[]</td>\n",
       "      <td>[]</td>\n",
       "      <td>{2016050811: 'Non_active', 2016080244: 'Not_tr...</td>\n",
       "    </tr>\n",
       "    <tr>\n",
       "      <th>2</th>\n",
       "      <td>2</td>\n",
       "      <td>1.609101e+09</td>\n",
       "      <td>[[65, 217, 145, 297, 1]]</td>\n",
       "      <td>[[65, 217, 145, 297, 2016050811]]</td>\n",
       "      <td>{}</td>\n",
       "      <td>{2016080244: [], 2016050811: [], 2016050855: []}</td>\n",
       "      <td>No_motion</td>\n",
       "      <td>[]</td>\n",
       "      <td>[]</td>\n",
       "      <td>NaN</td>\n",
       "      <td>[]</td>\n",
       "      <td>[]</td>\n",
       "      <td>{2016050811: 'Non_active', 2016080244: 'Not_tr...</td>\n",
       "    </tr>\n",
       "    <tr>\n",
       "      <th>3</th>\n",
       "      <td>3</td>\n",
       "      <td>1.609101e+09</td>\n",
       "      <td>[[64, 217, 146, 301, 1]]</td>\n",
       "      <td>[[64, 217, 146, 301, 2016050811]]</td>\n",
       "      <td>{}</td>\n",
       "      <td>{2016080244: [], 2016050811: [], 2016050855: []}</td>\n",
       "      <td>No_motion</td>\n",
       "      <td>[]</td>\n",
       "      <td>[]</td>\n",
       "      <td>NaN</td>\n",
       "      <td>[]</td>\n",
       "      <td>[]</td>\n",
       "      <td>{2016050811: 'Non_active', 2016080244: 'Not_tr...</td>\n",
       "    </tr>\n",
       "    <tr>\n",
       "      <th>4</th>\n",
       "      <td>4</td>\n",
       "      <td>1.609101e+09</td>\n",
       "      <td>[[64, 218, 145, 304, 1]]</td>\n",
       "      <td>[[64, 218, 145, 304, 2016050811]]</td>\n",
       "      <td>{}</td>\n",
       "      <td>{2016080244: [], 2016050811: [], 2016050855: []}</td>\n",
       "      <td>No_motion</td>\n",
       "      <td>[]</td>\n",
       "      <td>[]</td>\n",
       "      <td>NaN</td>\n",
       "      <td>[]</td>\n",
       "      <td>[]</td>\n",
       "      <td>{2016050811: 'Non_active', 2016080244: 'Not_tr...</td>\n",
       "    </tr>\n",
       "    <tr>\n",
       "      <th>...</th>\n",
       "      <td>...</td>\n",
       "      <td>...</td>\n",
       "      <td>...</td>\n",
       "      <td>...</td>\n",
       "      <td>...</td>\n",
       "      <td>...</td>\n",
       "      <td>...</td>\n",
       "      <td>...</td>\n",
       "      <td>...</td>\n",
       "      <td>...</td>\n",
       "      <td>...</td>\n",
       "      <td>...</td>\n",
       "      <td>...</td>\n",
       "    </tr>\n",
       "    <tr>\n",
       "      <th>8709</th>\n",
       "      <td>8709</td>\n",
       "      <td>1.609102e+09</td>\n",
       "      <td>[[97, 152, 156, 241, 16], [56, 134, 133, 214, ...</td>\n",
       "      <td>[]</td>\n",
       "      <td>{(16, 17): 0.25161785675112425, (16, 18): 0.0,...</td>\n",
       "      <td>{2016080244: [], 2016050811: [], 2016050855: []}</td>\n",
       "      <td>No_motion</td>\n",
       "      <td>[]</td>\n",
       "      <td>[]</td>\n",
       "      <td>NaN</td>\n",
       "      <td>[]</td>\n",
       "      <td>[]</td>\n",
       "      <td>{2016080244: 'Not_tracked', 2016050811: 'Not_t...</td>\n",
       "    </tr>\n",
       "    <tr>\n",
       "      <th>8710</th>\n",
       "      <td>8710</td>\n",
       "      <td>1.609102e+09</td>\n",
       "      <td>[[97, 152, 156, 241, 16], [56, 134, 133, 214, ...</td>\n",
       "      <td>[]</td>\n",
       "      <td>{(16, 17): 0.25161785675112425, (16, 18): 0.0,...</td>\n",
       "      <td>{2016080244: [], 2016050811: [], 2016050855: []}</td>\n",
       "      <td>No_motion</td>\n",
       "      <td>[]</td>\n",
       "      <td>[]</td>\n",
       "      <td>NaN</td>\n",
       "      <td>[]</td>\n",
       "      <td>[]</td>\n",
       "      <td>{2016080244: 'Not_tracked', 2016050811: 'Not_t...</td>\n",
       "    </tr>\n",
       "    <tr>\n",
       "      <th>8711</th>\n",
       "      <td>8711</td>\n",
       "      <td>1.609102e+09</td>\n",
       "      <td>[[97, 154, 156, 242, 16], [57, 134, 134, 214, ...</td>\n",
       "      <td>[]</td>\n",
       "      <td>{(16, 17): 0.25132275132275134, (16, 18): 0.0,...</td>\n",
       "      <td>{2016080244: [], 2016050811: [], 2016050855: []}</td>\n",
       "      <td>No_motion</td>\n",
       "      <td>[]</td>\n",
       "      <td>[]</td>\n",
       "      <td>NaN</td>\n",
       "      <td>[]</td>\n",
       "      <td>[]</td>\n",
       "      <td>{2016080244: 'Not_tracked', 2016050811: 'Not_t...</td>\n",
       "    </tr>\n",
       "    <tr>\n",
       "      <th>8712</th>\n",
       "      <td>8712</td>\n",
       "      <td>1.609102e+09</td>\n",
       "      <td>[[97, 154, 156, 241, 16], [56, 134, 132, 213, ...</td>\n",
       "      <td>[]</td>\n",
       "      <td>{(16, 17): 0.23074372858879436, (16, 18): 0.0,...</td>\n",
       "      <td>{2016080244: [], 2016050811: [], 2016050855: []}</td>\n",
       "      <td>No_motion</td>\n",
       "      <td>[]</td>\n",
       "      <td>[]</td>\n",
       "      <td>NaN</td>\n",
       "      <td>[]</td>\n",
       "      <td>[]</td>\n",
       "      <td>{2016080244: 'Not_tracked', 2016050811: 'Not_t...</td>\n",
       "    </tr>\n",
       "    <tr>\n",
       "      <th>8713</th>\n",
       "      <td>8713</td>\n",
       "      <td>1.609102e+09</td>\n",
       "      <td>[[97, 155, 156, 241, 16], [56, 133, 131, 213, ...</td>\n",
       "      <td>[]</td>\n",
       "      <td>{(16, 17): 0.22445820433436534, (16, 18): 0.0,...</td>\n",
       "      <td>{2016080244: [], 2016050811: [], 2016050855: []}</td>\n",
       "      <td>No_motion</td>\n",
       "      <td>[]</td>\n",
       "      <td>[]</td>\n",
       "      <td>[[3, 2016080244], [3, 2016080244]]</td>\n",
       "      <td>[]</td>\n",
       "      <td>[[Matching conditions not met for reader 3, 20...</td>\n",
       "      <td>{2016080244: 'Not_tracked', 2016050811: 'Not_t...</td>\n",
       "    </tr>\n",
       "  </tbody>\n",
       "</table>\n",
       "<p>8714 rows × 13 columns</p>\n",
       "</div>"
      ],
      "text/plain": [
       "      frame          Time                                        sort_tracks  \\\n",
       "0         0  1.609101e+09                           [[65, 217, 146, 292, 1]]   \n",
       "1         1  1.609101e+09                           [[65, 217, 145, 296, 1]]   \n",
       "2         2  1.609101e+09                           [[65, 217, 145, 297, 1]]   \n",
       "3         3  1.609101e+09                           [[64, 217, 146, 301, 1]]   \n",
       "4         4  1.609101e+09                           [[64, 218, 145, 304, 1]]   \n",
       "...     ...           ...                                                ...   \n",
       "8709   8709  1.609102e+09  [[97, 152, 156, 241, 16], [56, 134, 133, 214, ...   \n",
       "8710   8710  1.609102e+09  [[97, 152, 156, 241, 16], [56, 134, 133, 214, ...   \n",
       "8711   8711  1.609102e+09  [[97, 154, 156, 242, 16], [57, 134, 134, 214, ...   \n",
       "8712   8712  1.609102e+09  [[97, 154, 156, 241, 16], [56, 134, 132, 213, ...   \n",
       "8713   8713  1.609102e+09  [[97, 155, 156, 241, 16], [56, 133, 131, 213, ...   \n",
       "\n",
       "                            RFID_tracks  \\\n",
       "0     [[65, 217, 146, 292, 2016050811]]   \n",
       "1     [[65, 217, 145, 296, 2016050811]]   \n",
       "2     [[65, 217, 145, 297, 2016050811]]   \n",
       "3     [[64, 217, 146, 301, 2016050811]]   \n",
       "4     [[64, 218, 145, 304, 2016050811]]   \n",
       "...                                 ...   \n",
       "8709                                 []   \n",
       "8710                                 []   \n",
       "8711                                 []   \n",
       "8712                                 []   \n",
       "8713                                 []   \n",
       "\n",
       "                                       ious_interaction  \\\n",
       "0                                                    {}   \n",
       "1                                                    {}   \n",
       "2                                                    {}   \n",
       "3                                                    {}   \n",
       "4                                                    {}   \n",
       "...                                                 ...   \n",
       "8709  {(16, 17): 0.25161785675112425, (16, 18): 0.0,...   \n",
       "8710  {(16, 17): 0.25161785675112425, (16, 18): 0.0,...   \n",
       "8711  {(16, 17): 0.25132275132275134, (16, 18): 0.0,...   \n",
       "8712  {(16, 17): 0.23074372858879436, (16, 18): 0.0,...   \n",
       "8713  {(16, 17): 0.22445820433436534, (16, 18): 0.0,...   \n",
       "\n",
       "                                          Interactions     motion motion_roi  \\\n",
       "0     {2016080244: [], 2016050811: [], 2016050855: []}  No_motion         []   \n",
       "1     {2016080244: [], 2016050811: [], 2016050855: []}  No_motion         []   \n",
       "2     {2016080244: [], 2016050811: [], 2016050855: []}  No_motion         []   \n",
       "3     {2016080244: [], 2016050811: [], 2016050855: []}  No_motion         []   \n",
       "4     {2016080244: [], 2016050811: [], 2016050855: []}  No_motion         []   \n",
       "...                                                ...        ...        ...   \n",
       "8709  {2016080244: [], 2016050811: [], 2016050855: []}  No_motion         []   \n",
       "8710  {2016080244: [], 2016050811: [], 2016050855: []}  No_motion         []   \n",
       "8711  {2016080244: [], 2016050811: [], 2016050855: []}  No_motion         []   \n",
       "8712  {2016080244: [], 2016050811: [], 2016050855: []}  No_motion         []   \n",
       "8713  {2016080244: [], 2016050811: [], 2016050855: []}  No_motion         []   \n",
       "\n",
       "     RFID_matched                       RFID_readings Correction  \\\n",
       "0              []                                 NaN         []   \n",
       "1              []                                 NaN         []   \n",
       "2              []                                 NaN         []   \n",
       "3              []                                 NaN         []   \n",
       "4              []                                 NaN         []   \n",
       "...           ...                                 ...        ...   \n",
       "8709           []                                 NaN         []   \n",
       "8710           []                                 NaN         []   \n",
       "8711           []                                 NaN         []   \n",
       "8712           []                                 NaN         []   \n",
       "8713           []  [[3, 2016080244], [3, 2016080244]]         []   \n",
       "\n",
       "                                       Matching_details  \\\n",
       "0                                                    []   \n",
       "1                                                    []   \n",
       "2                                                    []   \n",
       "3                                                    []   \n",
       "4                                                    []   \n",
       "...                                                 ...   \n",
       "8709                                                 []   \n",
       "8710                                                 []   \n",
       "8711                                                 []   \n",
       "8712                                                 []   \n",
       "8713  [[Matching conditions not met for reader 3, 20...   \n",
       "\n",
       "                                               Activity  \n",
       "0     {2016050811: 'Non_active', 2016080244: 'Not_tr...  \n",
       "1     {2016050811: 'Non_active', 2016080244: 'Not_tr...  \n",
       "2     {2016050811: 'Non_active', 2016080244: 'Not_tr...  \n",
       "3     {2016050811: 'Non_active', 2016080244: 'Not_tr...  \n",
       "4     {2016050811: 'Non_active', 2016080244: 'Not_tr...  \n",
       "...                                                 ...  \n",
       "8709  {2016080244: 'Not_tracked', 2016050811: 'Not_t...  \n",
       "8710  {2016080244: 'Not_tracked', 2016050811: 'Not_t...  \n",
       "8711  {2016080244: 'Not_tracked', 2016050811: 'Not_t...  \n",
       "8712  {2016080244: 'Not_tracked', 2016050811: 'Not_t...  \n",
       "8713  {2016080244: 'Not_tracked', 2016050811: 'Not_t...  \n",
       "\n",
       "[8714 rows x 13 columns]"
      ]
     },
     "execution_count": 7,
     "metadata": {},
     "output_type": "execute_result"
    }
   ],
   "source": [
    "test2.load_RFID()\n",
    "test2.load_dets()\n",
    "_,_,cov=test2.RFID_match()\n",
    "test2.find_activte_mice()"
   ]
  },
  {
   "cell_type": "code",
   "execution_count": 8,
   "metadata": {},
   "outputs": [
    {
     "name": "stderr",
     "output_type": "stream",
     "text": [
      "100%|█████████████████████████████████████████████████████████████████████████████| 8714/8714 [00:31<00:00, 272.41it/s]\n"
     ]
    }
   ],
   "source": [
    "test2.generate_labeled_video()"
   ]
  },
  {
   "cell_type": "code",
   "execution_count": 10,
   "metadata": {},
   "outputs": [
    {
     "data": {
      "text/plain": [
       "75.55146634181341"
      ]
     },
     "execution_count": 10,
     "metadata": {},
     "output_type": "execute_result"
    }
   ],
   "source": [
    "\n",
    "paths='/media/tony/data/data/ann_marie/mx1/2021-01-06_23-58-16/'\n",
    "config_path='/media/tony/data/data/ann_marie/mx1/config.ini'\n",
    "coverage=[]\n",
    "#vids=[paths+folder for folder in os.listdir(paths) if folder[-4:]!='.txt' and folder[-4:] !='ions' and folder[-4:]!='.csv' and folder[-4:]!='.ini']\n",
    "vids=['/media/tony/data/data/ann_marie/mx1/2021-01-06_23-58-16']\n",
    "for path in vids:\n",
    "    with open(path+'/'+'logs.txt','r') as f:\n",
    "        tags=f.readlines()\n",
    "        tags=[int(i) for i in tags[1][6:].split(',')]\n",
    "    df2=pd.read_csv(f'{path}/RFID_data_all.csv',index_col=False)\n",
    "    df2.Time=pd.to_datetime(df2['Time'],format=\"%Y-%m-%d_%H:%M:%S.%f\")\n",
    "    df2['Time']=df2['Time'].astype(np.int64)/10**9\n",
    "    duration=df2.iloc[-1]['Time']-df2.iloc[0]['Time']\n",
    "    test2=PSYCO(path,config_path)\n",
    "    #test2.detect_mice()\n",
    "    t1=time.time()\n",
    "    test2.load_RFID()\n",
    "    test2.load_dets()\n",
    "    _,_,cov=test2.RFID_match()\n",
    "    test2.find_activte_mice()\n",
    "    t2=time.time()\n",
    "#rought detection speed: 188.76 min rtx2080ti;339 min on g\n",
    "#test2.generate_validation_video()\n",
    "#13 hours\n",
    "#5:39 min SORT assignment\n",
    "#12:52 min  kal\n"
   ]
  }
 ],
 "metadata": {
  "kernelspec": {
   "display_name": "Python 3 (ipykernel)",
   "language": "python",
   "name": "python3"
  },
  "language_info": {
   "codemirror_mode": {
    "name": "ipython",
    "version": 3
   },
   "file_extension": ".py",
   "mimetype": "text/x-python",
   "name": "python",
   "nbconvert_exporter": "python",
   "pygments_lexer": "ipython3",
   "version": "3.7.0"
  }
 },
 "nbformat": 4,
 "nbformat_minor": 4
}
