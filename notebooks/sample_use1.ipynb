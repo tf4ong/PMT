{
 "cells": [
  {
   "cell_type": "code",
   "execution_count": 1,
   "metadata": {},
   "outputs": [],
   "source": [
    "from PyRodentTracks import PRT\n",
    "import numpy as np\n",
    "import os\n",
    "import pandas as pd\n",
    "import time "
   ]
  },
  {
   "cell_type": "code",
   "execution_count": 3,
   "metadata": {},
   "outputs": [],
   "source": [
    "import extract_frames2label as et\n",
    "import os"
   ]
  },
  {
   "cell_type": "code",
   "execution_count": 4,
   "metadata": {},
   "outputs": [],
   "source": [
    "os.mkdir('D:/tracker_test/labelled')"
   ]
  },
  {
   "cell_type": "code",
   "execution_count": 6,
   "metadata": {},
   "outputs": [],
   "source": [
    "vids=['raw.avi', 't1.avi', 't5.avi']\n",
    "vids =['D:/tracker_test/'+i for i in vids ]"
   ]
  },
  {
   "cell_type": "code",
   "execution_count": 5,
   "metadata": {},
   "outputs": [
    {
     "data": {
      "text/plain": [
       "1647075125.5893931"
      ]
     },
     "execution_count": 5,
     "metadata": {},
     "output_type": "execute_result"
    }
   ],
   "source": [
    "import time\n",
    "time.time()"
   ]
  },
  {
   "cell_type": "code",
   "execution_count": 7,
   "metadata": {},
   "outputs": [
    {
     "name": "stdout",
     "output_type": "stream",
     "text": [
      "Kmeans-quantization based extracting of frames from 0.0  seconds to 0.0  seconds.\n",
      "finished extracting 20 from video:\n",
      "D:/tracker_test/raw.avi\n",
      "Kmeans-quantization based extracting of frames from 0.0  seconds to 16838.45  seconds.\n",
      "Extracting and downsampling... 336769  frames from the video.\n"
     ]
    },
    {
     "name": "stderr",
     "output_type": "stream",
     "text": [
      "336769it [04:10, 1344.19it/s]\n"
     ]
    },
    {
     "name": "stdout",
     "output_type": "stream",
     "text": [
      "Kmeans clustering ... (this might take a while)\n",
      "finished extracting 20 from video:\n",
      "D:/tracker_test/t1.avi\n",
      "Kmeans-quantization based extracting of frames from 0.0  seconds to 40277.87  seconds.\n",
      "Extracting and downsampling... 604168  frames from the video.\n"
     ]
    },
    {
     "name": "stderr",
     "output_type": "stream",
     "text": [
      "604168it [07:29, 1345.22it/s]\n"
     ]
    },
    {
     "name": "stdout",
     "output_type": "stream",
     "text": [
      "Kmeans clustering ... (this might take a while)\n",
      "finished extracting 20 from video:\n",
      "D:/tracker_test/t5.avi\n"
     ]
    }
   ],
   "source": [
    "for i in vids:\n",
    "    et.extract_frames(i,20,'D:/tracker_test/labelled')"
   ]
  },
  {
   "cell_type": "code",
   "execution_count": 4,
   "metadata": {},
   "outputs": [
    {
     "name": "stdout",
     "output_type": "stream",
     "text": [
      "Kmeans-quantization based extracting of frames from 0.0  seconds to 581.0  seconds.\n",
      "Extracting and downsampling... 8715  frames from the video.\n"
     ]
    },
    {
     "name": "stderr",
     "output_type": "stream",
     "text": [
      "8715it [00:06, 1345.62it/s]\n"
     ]
    },
    {
     "name": "stdout",
     "output_type": "stream",
     "text": [
      "Kmeans clustering ... (this might take a while)\n",
      "finished extracting 30 from video:\n",
      "E:/test_old/raw.avi\n"
     ]
    }
   ],
   "source": [
    "#for i in vids:\n",
    "et.extract_frames('E:/test_old/raw.avi',20,'D:/tracker_test/labelled')"
   ]
  },
  {
   "cell_type": "code",
   "execution_count": 2,
   "metadata": {},
   "outputs": [
    {
     "name": "stdout",
     "output_type": "stream",
     "text": [
      "445 Tags were read in 599.9291288852692 seconds\n"
     ]
    },
    {
     "name": "stderr",
     "output_type": "stream",
     "text": [
      "Assigning Sort ID to bboxes: 100%|██████████| 19729/19729 [00:27<00:00, 718.08it/s]\n",
      "Inserting Kalmen filter predictions: 100%|██████████| 19729/19729 [00:20<00:00, 952.64it/s] \n",
      "Reconnecting IDs:: 100%|██████████| 19729/19729 [00:47<00:00, 411.34it/s]5 [00:09<02:40,  2.68it/s]\n",
      "Starting to match RFID readings from Cage readers: 100%|██████████| 445/445 [02:17<00:00,  3.25it/s]\n",
      "Starting Left over Tag match comphrensive loop 1: 100%|██████████| 142/142 [00:05<00:00, 27.37it/s]\n",
      "Matching last tag in frame:  53%|█████▎    | 184/345 [00:00<00:00, 1838.40it/s]"
     ]
    },
    {
     "name": "stdout",
     "output_type": "stream",
     "text": [
      "99.84870877751445\n"
     ]
    },
    {
     "name": "stderr",
     "output_type": "stream",
     "text": [
      "Matching last tag in frame: 100%|██████████| 345/345 [00:01<00:00, 172.92it/s] \n",
      "  0%|          | 2/19729 [00:00<19:41, 16.70it/s]"
     ]
    },
    {
     "name": "stdout",
     "output_type": "stream",
     "text": [
      "/home/tony/alt_tracker/tests/alter_test1\n"
     ]
    },
    {
     "name": "stderr",
     "output_type": "stream",
     "text": [
      "100%|█████████▉| 19728/19729 [04:38<00:00, 74.23it/s]%|██████████| 21/21 [00:17<00:00, 35.56it/s]"
     ]
    }
   ],
   "source": [
    "paths='/home/tony/alt_tracker/tests/'\n",
    "config_path='/home/tony/alt_tracker/tests/config.ini'\n",
    "coverage=[]\n",
    "vids=[paths+folder for folder in os.listdir(paths) if folder[-4:]!='.txt' and folder[-4:] !='ions' and folder[-4:]!='.csv' and folder[-4:]!='.ini']\n",
    "vids=[vids[1]]\n",
    "for path in vids:\n",
    "    with open(path+'/'+'logs.txt','r') as f:\n",
    "        tags=f.readlines()\n",
    "        tags=[int(i) for i in tags[1][6:].split(',')]\n",
    "    test2=PSYCO(path,config_path)\n",
    "    #test2.detect_mice()\n",
    "    test2.load_RFID()\n",
    "    test2.load_dets()\n",
    "    _,_,cov=test2.RFID_match()\n",
    "    test2.find_activte_mice()\n",
    "#test2.generate_validation_video()\n",
    "test2.generate_labeled_video()"
   ]
  },
  {
   "cell_type": "code",
   "execution_count": 2,
   "metadata": {},
   "outputs": [
    {
     "name": "stdout",
     "output_type": "stream",
     "text": [
      "Already analyzed. Found RFID_tracks.csv file in path\n",
      "Loaded RFID_tracks.csv at path E:/test_old/\n"
     ]
    }
   ],
   "source": [
    "path = 'E:/test_old/'\n",
    "config_path = 'C:/Users/Tony/PRT_final/configs/config.ini'\n",
    "with open(path+'logs.txt','r') as f:\n",
    "    tags=f.readlines()\n",
    "    tags=[int(i) for i in tags[1][6:].split(',')]\n",
    "    test2=PRT(path,config_path)"
   ]
  },
  {
   "cell_type": "code",
   "execution_count": 3,
   "metadata": {},
   "outputs": [
    {
     "name": "stdout",
     "output_type": "stream",
     "text": [
      "Starting to yolov4 and motion detection process on  E:/test_old//raw.avi\n"
     ]
    },
    {
     "name": "stderr",
     "output_type": "stream",
     "text": [
      "\r",
      "  0%|                                                                                         | 0/8715 [00:00<?, ?it/s]"
     ]
    },
    {
     "ename": "TypeError",
     "evalue": "draw_bbox() got multiple values for argument 'show_label'",
     "output_type": "error",
     "traceback": [
      "\u001b[1;31m---------------------------------------------------------------------------\u001b[0m",
      "\u001b[1;31mTypeError\u001b[0m                                 Traceback (most recent call last)",
      "\u001b[1;32m~\\AppData\\Local\\Temp\\ipykernel_22524\\1477936226.py\u001b[0m in \u001b[0;36m<module>\u001b[1;34m\u001b[0m\n\u001b[1;32m----> 1\u001b[1;33m \u001b[0mtest2\u001b[0m\u001b[1;33m.\u001b[0m\u001b[0mdetect_mice\u001b[0m\u001b[1;33m(\u001b[0m\u001b[1;33m)\u001b[0m\u001b[1;33m\u001b[0m\u001b[0m\n\u001b[0m",
      "\u001b[1;32m~\\PRT_final\\PyRodentTracks.py\u001b[0m in \u001b[0;36mdetect_mice\u001b[1;34m(self, write_vid)\u001b[0m\n\u001b[0;32m     49\u001b[0m         \u001b[1;32mreturn\u001b[0m\u001b[1;33m\u001b[0m\u001b[0m\n\u001b[0;32m     50\u001b[0m     \u001b[1;32mdef\u001b[0m \u001b[0mdetect_mice\u001b[0m\u001b[1;33m(\u001b[0m\u001b[0mself\u001b[0m\u001b[1;33m,\u001b[0m\u001b[0mwrite_vid\u001b[0m\u001b[1;33m=\u001b[0m\u001b[1;32mFalse\u001b[0m\u001b[1;33m)\u001b[0m\u001b[1;33m:\u001b[0m\u001b[1;33m\u001b[0m\u001b[0m\n\u001b[1;32m---> 51\u001b[1;33m         \u001b[0myolov4_detect\u001b[0m\u001b[1;33m(\u001b[0m\u001b[0mself\u001b[0m\u001b[1;33m.\u001b[0m\u001b[0mpath\u001b[0m\u001b[1;33m,\u001b[0m\u001b[0mself\u001b[0m\u001b[1;33m.\u001b[0m\u001b[0mconfig_dic_detect\u001b[0m\u001b[1;33m,\u001b[0m\u001b[0mwrite_vid\u001b[0m\u001b[1;33m)\u001b[0m\u001b[1;33m\u001b[0m\u001b[0m\n\u001b[0m\u001b[0;32m     52\u001b[0m         \u001b[1;32mreturn\u001b[0m\u001b[1;33m\u001b[0m\u001b[0m\n\u001b[0;32m     53\u001b[0m     \u001b[1;32mdef\u001b[0m \u001b[0mload_RFID\u001b[0m\u001b[1;33m(\u001b[0m\u001b[0mself\u001b[0m\u001b[1;33m)\u001b[0m\u001b[1;33m:\u001b[0m\u001b[1;33m\u001b[0m\u001b[0m\n",
      "\u001b[1;32m~\\PRT_final\\prt_utils\\detect_utils.py\u001b[0m in \u001b[0;36myolov4_detect\u001b[1;34m(folder, config_dic_detect, write_vid)\u001b[0m\n\u001b[0;32m    144\u001b[0m                 )\n\u001b[0;32m    145\u001b[0m             \u001b[0mpred_bbox\u001b[0m \u001b[1;33m=\u001b[0m \u001b[1;33m[\u001b[0m\u001b[0mboxes\u001b[0m\u001b[1;33m.\u001b[0m\u001b[0mnumpy\u001b[0m\u001b[1;33m(\u001b[0m\u001b[1;33m)\u001b[0m\u001b[1;33m,\u001b[0m \u001b[0mscores\u001b[0m\u001b[1;33m.\u001b[0m\u001b[0mnumpy\u001b[0m\u001b[1;33m(\u001b[0m\u001b[1;33m)\u001b[0m\u001b[1;33m,\u001b[0m \u001b[0mclasses\u001b[0m\u001b[1;33m.\u001b[0m\u001b[0mnumpy\u001b[0m\u001b[1;33m(\u001b[0m\u001b[1;33m)\u001b[0m\u001b[1;33m,\u001b[0m \u001b[0mvalid_detections\u001b[0m\u001b[1;33m.\u001b[0m\u001b[0mnumpy\u001b[0m\u001b[1;33m(\u001b[0m\u001b[1;33m)\u001b[0m\u001b[1;33m]\u001b[0m\u001b[1;33m\u001b[0m\u001b[0m\n\u001b[1;32m--> 146\u001b[1;33m             \u001b[0mimage\u001b[0m \u001b[1;33m=\u001b[0m \u001b[0mutils\u001b[0m\u001b[1;33m.\u001b[0m\u001b[0mdraw_bbox\u001b[0m\u001b[1;33m(\u001b[0m\u001b[0mframe\u001b[0m\u001b[1;33m,\u001b[0m\u001b[0mpred_bbox\u001b[0m\u001b[1;33m,\u001b[0m\u001b[0mconfig_dic_detect\u001b[0m\u001b[1;33m[\u001b[0m\u001b[1;34m'framework'\u001b[0m\u001b[1;33m]\u001b[0m\u001b[1;33m,\u001b[0m \u001b[0mpred_bbox\u001b[0m\u001b[1;33m,\u001b[0m\u001b[0mshow_label\u001b[0m\u001b[1;33m=\u001b[0m\u001b[1;32mFalse\u001b[0m\u001b[1;33m)\u001b[0m\u001b[1;33m\u001b[0m\u001b[0m\n\u001b[0m\u001b[0;32m    147\u001b[0m             avg, status,cnt_bb= utils.motion_detection(frame,avg,k_size=(blur_filter_k_size,blur_filter_k_size),\n\u001b[0;32m    148\u001b[0m                                                        min_area=motion_area_thresh,intensity_thres=intensity_thres)\n",
      "\u001b[1;31mTypeError\u001b[0m: draw_bbox() got multiple values for argument 'show_label'"
     ]
    }
   ],
   "source": [
    "test2.detect_mice()"
   ]
  },
  {
   "cell_type": "code",
   "execution_count": 5,
   "metadata": {},
   "outputs": [
    {
     "name": "stdout",
     "output_type": "stream",
     "text": [
      "68 Tags were read in 600.057427406311 seconds\n"
     ]
    },
    {
     "ename": "SyntaxError",
     "evalue": "invalid syntax (<string>, line 1)",
     "output_type": "error",
     "traceback": [
      "Traceback \u001b[1;36m(most recent call last)\u001b[0m:\n",
      "  File \u001b[0;32m\"C:\\Users\\Tony\\anaconda3\\envs\\PyRodentTracks\\lib\\site-packages\\IPython\\core\\interactiveshell.py\"\u001b[0m, line \u001b[0;32m3457\u001b[0m, in \u001b[0;35mrun_code\u001b[0m\n    exec(code_obj, self.user_global_ns, self.user_ns)\n",
      "  File \u001b[0;32m\"C:\\Users\\Tony\\AppData\\Local\\Temp\\ipykernel_29520\\2874403136.py\"\u001b[0m, line \u001b[0;32m2\u001b[0m, in \u001b[0;35m<module>\u001b[0m\n    test2.load_dets()\n",
      "  File \u001b[0;32m\"C:\\Users\\Tony\\PRT_final\\PyRodentTracks.py\"\u001b[0m, line \u001b[0;32m68\u001b[0m, in \u001b[0;35mload_dets\u001b[0m\n    self.df_RFID,len(self.tags))\n",
      "  File \u001b[0;32m\"C:\\Users\\Tony\\PRT_final\\prt_utils\\mouse_matching.py\"\u001b[0m, line \u001b[0;32m119\u001b[0m, in \u001b[0;35mread_yolotracks\u001b[0m\n    df_tracks=pd.read_csv(pathin+'/'+'yolo_dets.csv',converters=dics)\n",
      "  File \u001b[0;32m\"C:\\Users\\Tony\\anaconda3\\envs\\PyRodentTracks\\lib\\site-packages\\pandas\\io\\parsers.py\"\u001b[0m, line \u001b[0;32m688\u001b[0m, in \u001b[0;35mread_csv\u001b[0m\n    return _read(filepath_or_buffer, kwds)\n",
      "  File \u001b[0;32m\"C:\\Users\\Tony\\anaconda3\\envs\\PyRodentTracks\\lib\\site-packages\\pandas\\io\\parsers.py\"\u001b[0m, line \u001b[0;32m460\u001b[0m, in \u001b[0;35m_read\u001b[0m\n    data = parser.read(nrows)\n",
      "  File \u001b[0;32m\"C:\\Users\\Tony\\anaconda3\\envs\\PyRodentTracks\\lib\\site-packages\\pandas\\io\\parsers.py\"\u001b[0m, line \u001b[0;32m1198\u001b[0m, in \u001b[0;35mread\u001b[0m\n    ret = self._engine.read(nrows)\n",
      "  File \u001b[0;32m\"C:\\Users\\Tony\\anaconda3\\envs\\PyRodentTracks\\lib\\site-packages\\pandas\\io\\parsers.py\"\u001b[0m, line \u001b[0;32m2157\u001b[0m, in \u001b[0;35mread\u001b[0m\n    data = self._reader.read(nrows)\n",
      "  File \u001b[0;32m\"pandas\\_libs\\parsers.pyx\"\u001b[0m, line \u001b[0;32m847\u001b[0m, in \u001b[0;35mpandas._libs.parsers.TextReader.read\u001b[0m\n",
      "  File \u001b[0;32m\"pandas\\_libs\\parsers.pyx\"\u001b[0m, line \u001b[0;32m862\u001b[0m, in \u001b[0;35mpandas._libs.parsers.TextReader._read_low_memory\u001b[0m\n",
      "  File \u001b[0;32m\"pandas\\_libs\\parsers.pyx\"\u001b[0m, line \u001b[0;32m941\u001b[0m, in \u001b[0;35mpandas._libs.parsers.TextReader._read_rows\u001b[0m\n",
      "  File \u001b[0;32m\"pandas\\_libs\\parsers.pyx\"\u001b[0m, line \u001b[0;32m1051\u001b[0m, in \u001b[0;35mpandas._libs.parsers.TextReader._convert_column_data\u001b[0m\n",
      "\u001b[1;36m  File \u001b[1;32m\"pandas\\_libs\\parsers.pyx\"\u001b[1;36m, line \u001b[1;32m2139\u001b[1;36m, in \u001b[1;35mpandas._libs.parsers._apply_converter\u001b[1;36m\u001b[0m\n",
      "\u001b[1;36m  File \u001b[1;32m\"<string>\"\u001b[1;36m, line \u001b[1;32m1\u001b[0m\n\u001b[1;33m    [[117 119 116]\u001b[0m\n\u001b[1;37m            ^\u001b[0m\n\u001b[1;31mSyntaxError\u001b[0m\u001b[1;31m:\u001b[0m invalid syntax\n"
     ]
    }
   ],
   "source": [
    "test2.load_RFID()\n",
    "test2.load_dets()\n",
    "_,_,cov=test2.RFID_match()\n",
    "test2.find_activte_mice()"
   ]
  },
  {
   "cell_type": "code",
   "execution_count": 8,
   "metadata": {},
   "outputs": [
    {
     "name": "stderr",
     "output_type": "stream",
     "text": [
      "100%|█████████████████████████████████████████████████████████████████████████████| 8714/8714 [00:31<00:00, 272.41it/s]\n"
     ]
    }
   ],
   "source": [
    "test2.generate_labeled_video()"
   ]
  },
  {
   "cell_type": "code",
   "execution_count": 10,
   "metadata": {},
   "outputs": [
    {
     "data": {
      "text/plain": [
       "75.55146634181341"
      ]
     },
     "execution_count": 10,
     "metadata": {},
     "output_type": "execute_result"
    }
   ],
   "source": [
    "\n",
    "paths='/media/tony/data/data/ann_marie/mx1/2021-01-06_23-58-16/'\n",
    "config_path='/media/tony/data/data/ann_marie/mx1/config.ini'\n",
    "coverage=[]\n",
    "#vids=[paths+folder for folder in os.listdir(paths) if folder[-4:]!='.txt' and folder[-4:] !='ions' and folder[-4:]!='.csv' and folder[-4:]!='.ini']\n",
    "vids=['/media/tony/data/data/ann_marie/mx1/2021-01-06_23-58-16']\n",
    "for path in vids:\n",
    "    with open(path+'/'+'logs.txt','r') as f:\n",
    "        tags=f.readlines()\n",
    "        tags=[int(i) for i in tags[1][6:].split(',')]\n",
    "    df2=pd.read_csv(f'{path}/RFID_data_all.csv',index_col=False)\n",
    "    df2.Time=pd.to_datetime(df2['Time'],format=\"%Y-%m-%d_%H:%M:%S.%f\")\n",
    "    df2['Time']=df2['Time'].astype(np.int64)/10**9\n",
    "    duration=df2.iloc[-1]['Time']-df2.iloc[0]['Time']\n",
    "    test2=PSYCO(path,config_path)\n",
    "    #test2.detect_mice()\n",
    "    t1=time.time()\n",
    "    test2.load_RFID()\n",
    "    test2.load_dets()\n",
    "    _,_,cov=test2.RFID_match()\n",
    "    test2.find_activte_mice()\n",
    "    t2=time.time()\n",
    "#rought detection speed: 188.76 min rtx2080ti;339 min on g\n",
    "#test2.generate_validation_video()\n",
    "#13 hours\n",
    "#5:39 min SORT assignment\n",
    "#12:52 min  kal\n"
   ]
  }
 ],
 "metadata": {
  "kernelspec": {
   "display_name": "Python 3 (ipykernel)",
   "language": "python",
   "name": "python3"
  },
  "language_info": {
   "codemirror_mode": {
    "name": "ipython",
    "version": 3
   },
   "file_extension": ".py",
   "mimetype": "text/x-python",
   "name": "python",
   "nbconvert_exporter": "python",
   "pygments_lexer": "ipython3",
   "version": "3.7.0"
  }
 },
 "nbformat": 4,
 "nbformat_minor": 4
}
