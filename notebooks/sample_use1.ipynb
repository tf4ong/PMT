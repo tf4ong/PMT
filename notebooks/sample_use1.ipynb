{
 "cells": [
  {
   "cell_type": "code",
   "execution_count": 1,
   "metadata": {},
   "outputs": [],
   "source": [
    "#imports necessary packages for analysis \n",
    "#please run the following in the PMT environment with a CUDA PC\n",
    "wdir='C:\\\\Users\\\\Tony\\\\PRT\\\\' # changes working directory to PMT\n",
    "import os\n",
    "os.chdir(wdir)\n",
    "from PyRodentTracks import PRT_analysis,PRT_train\n",
    "import numpy as np\n",
    "import pandas as pd\n",
    "import time "
   ]
  },
  {
   "cell_type": "markdown",
   "metadata": {},
   "source": [
    "**Trainning Example**"
   ]
  },
  {
   "cell_type": "code",
   "execution_count": 12,
   "metadata": {},
   "outputs": [
    {
     "name": "stdout",
     "output_type": "stream",
     "text": [
      "finished creating config.ini file at {path2config}\n",
      "please edit config files to desired settings and load with load_config()\n"
     ]
    }
   ],
   "source": [
    "#create config file for trainning and analysis \n",
    "train_sample = PRT_train('D:/trainer/',creat_new=True)\n",
    "#edit the config.ini file at location to desire settings and the load \n",
    "#please read the setup pdf for more details on the parameters \n",
    "train_sample.load_config()"
   ]
  },
  {
   "cell_type": "code",
   "execution_count": 16,
   "metadata": {},
   "outputs": [
    {
     "name": "stdout",
     "output_type": "stream",
     "text": [
      "Kmeans-quantization based extracting of frames from 0.0  seconds to 559.53  seconds.\n",
      "Extracting and downsampling... 8393  frames from the video.\n"
     ]
    },
    {
     "name": "stderr",
     "output_type": "stream",
     "text": [
      "8393it [00:05, 1446.94it/s]\n"
     ]
    },
    {
     "name": "stdout",
     "output_type": "stream",
     "text": [
      "Kmeans clustering ... (this might take a while)\n",
      "finished extracting 30 from video:\n",
      "D:/notebook_test/train_vid1.avi\n",
      "Kmeans-quantization based extracting of frames from 0.0  seconds to 892.0  seconds.\n",
      "Extracting and downsampling... 13380  frames from the video.\n"
     ]
    },
    {
     "name": "stderr",
     "output_type": "stream",
     "text": [
      "13380it [00:09, 1455.14it/s]\n"
     ]
    },
    {
     "name": "stdout",
     "output_type": "stream",
     "text": [
      "Kmeans clustering ... (this might take a while)\n",
      "finished extracting 30 from video:\n",
      "D:/notebook_test/train_vid2.avi\n",
      "Kmeans-quantization based extracting of frames from 0.0  seconds to 611.0  seconds.\n",
      "Extracting and downsampling... 9165  frames from the video.\n"
     ]
    },
    {
     "name": "stderr",
     "output_type": "stream",
     "text": [
      "9165it [00:06, 1457.65it/s]\n"
     ]
    },
    {
     "name": "stdout",
     "output_type": "stream",
     "text": [
      "Kmeans clustering ... (this might take a while)\n",
      "finished extracting 30 from video:\n",
      "D:/notebook_test/train_vid3.avi\n",
      "Finished extracting frames from videos\n",
      "label frames with labelimg using label_imgs() or use another too1649974680_img4l which generates Pascal VOC format\n"
     ]
    }
   ],
   "source": [
    "#extract trainning frames from sample videos\n",
    "train_vidpath='D:/notebook_test/' \n",
    "vids2add = [train_vidpath+i for i in os.listdir(train_vidpath)] # list of absolute path to the videos\n",
    "train_sample.add_vids(vids2add)\n",
    "train_sample.extractframes()"
   ]
  },
  {
   "cell_type": "code",
   "execution_count": 18,
   "metadata": {},
   "outputs": [],
   "source": [
    "#opens up label_imgs gui to label the imgs\n",
    "#please refere to the pdf guide for correct label settings\n",
    "train_sample.label_imgs()"
   ]
  },
  {
   "cell_type": "code",
   "execution_count": 19,
   "metadata": {},
   "outputs": [
    {
     "name": "stdout",
     "output_type": "stream",
     "text": [
      "Please transfer folder to train in darknet, in the colab notebook or docker provided\n"
     ]
    }
   ],
   "source": [
    "#generates a trainning folder to use to train weights in darknet or colab\n",
    "#please refer to the guide pdf on using darknet (install/docker)\n",
    "#the colab notebook for trainning is on our github in the notebook directory\n",
    "#please look forward for future versions where trainning will be done in python\n",
    "train_sample.generate_trainset()"
   ]
  },
  {
   "cell_type": "markdown",
   "metadata": {},
   "source": [
    "**Analysis Example of Tracker_rpi Data**"
   ]
  },
  {
   "cell_type": "code",
   "execution_count": 2,
   "metadata": {},
   "outputs": [
    {
     "name": "stdout",
     "output_type": "stream",
     "text": [
      "Already analyzed. Found RFID_tracks.csv file in path\n",
      "Loaded RFID_tracks.csv at path D:/notebook_test/test1/\n"
     ]
    }
   ],
   "source": [
    "#Starting the analysis process for PMT\n",
    "#load the config file and the video folder of interest\n",
    "#for mutiple mice, we can only analyze data in the format \n",
    "#generated from the tracker_rpi\n",
    "#for the configurations please follow the pdf guide\n",
    "#example of video containning 4 mice\n",
    "config_path = 'D:/trainer/config.ini'\n",
    "test_vid = 'D:/notebook_test/test1/'\n",
    "test=PRT_analysis(test_vid,config_path)"
   ]
  },
  {
   "cell_type": "code",
   "execution_count": 23,
   "metadata": {},
   "outputs": [
    {
     "name": "stdout",
     "output_type": "stream",
     "text": [
      "Starting to yolov4 and motion detection process on  D:/notebook_test/test1//raw.avi\n"
     ]
    },
    {
     "name": "stderr",
     "output_type": "stream",
     "text": [
      "100%|██████████████████████████████████████████████████████████████████████████████| 9894/9894 [03:27<00:00, 47.57it/s]"
     ]
    },
    {
     "name": "stdout",
     "output_type": "stream",
     "text": [
      "Mice Detection and motion detection complete for folder D:/notebook_test/test1/\n",
      "Results saved in D:/notebook_test/test1//yolo_dets.csv\n"
     ]
    },
    {
     "name": "stderr",
     "output_type": "stream",
     "text": [
      "\n"
     ]
    }
   ],
   "source": [
    "#performs the yolov4 detections and saves it in a csv\n",
    "test.detect_mice()"
   ]
  },
  {
   "cell_type": "code",
   "execution_count": 4,
   "metadata": {
    "scrolled": true
   },
   "outputs": [
    {
     "name": "stdout",
     "output_type": "stream",
     "text": [
      "{'RFID_readers': {5: [55, 79, 133, 165], 4: [214, 59, 330, 168], 3: [418, 65, 492, 147], 2: [193, 198, 327, 307], 1: [54, 245, 156, 344], 0: [471, 233, 512, 294]}, 'entrance_time_thres': 1.5, 'entrance_distance': 30.0, 'correct_iou': 0.06, 'RFID_dist': 70.0, 'entr_frames': 15, 'reader_thres': 0.12, 'trac_interpolation': 5, 'itc_slack': 0.1, 'entrance_reader': 0}\n",
      "196 Tags were read in 600.2127611637115 seconds\n"
     ]
    },
    {
     "name": "stderr",
     "output_type": "stream",
     "text": [
      "Assigning Sort ID to bboxes: 100%|███████████████████████████████████████████████| 9894/9894 [00:04<00:00, 2212.56it/s]\n",
      "Checking frames for occlusions/yolov4 fails: 100%|██████████████████████████████| 9893/9893 [00:00<00:00, 57019.84it/s]\n",
      "Checking Kalmen filter predictions at frames with occlusions/yolov4 fails: 100%|████| 575/575 [00:00<00:00, 984.59it/s]\n"
     ]
    },
    {
     "name": "stdout",
     "output_type": "stream",
     "text": [
      "Removed sort ids [1, 5, 12, 28, 30, 31, 48, 58] for possible false positives\n"
     ]
    },
    {
     "name": "stderr",
     "output_type": "stream",
     "text": [
      "Starting to match RFID readings from entrance reader: 100%|████████████████████████████| 79/79 [00:03<00:00, 25.10it/s]\n",
      "Starting to match RFID readings from Cage readers: 100%|█████████████████████████████| 117/117 [00:03<00:00, 31.15it/s]\n",
      "Starting Left over Tag match comphrensive loop 1: 100%|████████████████████████████████| 18/18 [00:00<00:00, 25.17it/s]\n",
      "Starting Left over Tag match comphrensive loop 2: 100%|██████████████████████████████████| 8/8 [00:00<00:00, 20.89it/s]\n",
      "Starting Left over Tag match comphrensive loop 3: 100%|██████████████████████████████████| 9/9 [00:00<00:00, 24.32it/s]\n",
      "Starting Left over Tag match comphrensive loop 4: 100%|██████████████████████████████████| 9/9 [00:00<00:00, 20.69it/s]\n",
      "Matching last tag in frame: 100%|█████████████████████████████████████████████████████| 33/33 [00:00<00:00, 390.54it/s]\n"
     ]
    },
    {
     "name": "stdout",
     "output_type": "stream",
     "text": [
      "87.65741923708707 % of mice detected were matched with an RFID tag\n"
     ]
    },
    {
     "name": "stderr",
     "output_type": "stream",
     "text": [
      "\r",
      "Generating Individual Rodent Trajectory:   0%|                                                   | 0/4 [00:00<?, ?it/s]"
     ]
    },
    {
     "name": "stdout",
     "output_type": "stream",
     "text": [
      "\n",
      "\n",
      "\n",
      "\n",
      "\n",
      "\n",
      "\n",
      "\n",
      "\n",
      "\n"
     ]
    },
    {
     "name": "stderr",
     "output_type": "stream",
     "text": [
      "\r",
      "Generating Individual Rodent Trajectory:  25%|██████████▊                                | 1/4 [00:00<00:01,  1.66it/s]"
     ]
    },
    {
     "name": "stdout",
     "output_type": "stream",
     "text": [
      "\n",
      "\n",
      "\n",
      "\n",
      "\n",
      "\n",
      "\n",
      "\n",
      "\n",
      "\n"
     ]
    },
    {
     "name": "stderr",
     "output_type": "stream",
     "text": [
      "\r",
      "Generating Individual Rodent Trajectory:  50%|█████████████████████▌                     | 2/4 [00:01<00:01,  1.47it/s]"
     ]
    },
    {
     "name": "stdout",
     "output_type": "stream",
     "text": [
      "\n",
      "\n",
      "\n",
      "\n",
      "\n",
      "\n",
      "\n",
      "\n",
      "\n",
      "\n",
      "\n",
      "\n",
      "\n",
      "\n",
      "\n",
      "\n",
      "\n"
     ]
    },
    {
     "name": "stderr",
     "output_type": "stream",
     "text": [
      "\r",
      "Generating Individual Rodent Trajectory:  75%|████████████████████████████████▎          | 3/4 [00:02<00:00,  1.38it/s]"
     ]
    },
    {
     "name": "stdout",
     "output_type": "stream",
     "text": [
      "\n",
      "\n",
      "\n",
      "\n",
      "\n"
     ]
    },
    {
     "name": "stderr",
     "output_type": "stream",
     "text": [
      "Generating Individual Rodent Trajectory: 100%|███████████████████████████████████████████| 4/4 [00:02<00:00,  1.38it/s]\n",
      "                                            \r"
     ]
    }
   ],
   "source": [
    "#complete analysis pipeline\n",
    "test.load_RFID() #loads the readings from rfid readers \n",
    "test.load_dets() #loads the detections made by Yolo\n",
    "test.RFID_match() #starts the Sort-ID generation and matching with RFID readings\n",
    "test.find_activte_mice() # finds mice that were active\n",
    "test.compile_travel_trjectories() #generates individual travel trajectories of each mouse"
   ]
  },
  {
   "cell_type": "code",
   "execution_count": 3,
   "metadata": {},
   "outputs": [
    {
     "name": "stderr",
     "output_type": "stream",
     "text": [
      "                                                                                                                       \r"
     ]
    }
   ],
   "source": [
    "#Generates track video for verifications\n",
    "test.generate_track_video() "
   ]
  },
  {
   "cell_type": "markdown",
   "metadata": {},
   "source": [
    "**Analysis of Single Mouse Video Not Generated by Tracker_rpi**"
   ]
  },
  {
   "cell_type": "code",
   "execution_count": null,
   "metadata": {},
   "outputs": [],
   "source": [
    "#No RFID readings required\n",
    "#assumes a certain frame rate for videos\n",
    "#as normal videos do not have timestamp for frames"
   ]
  },
  {
   "cell_type": "code",
   "execution_count": 2,
   "metadata": {},
   "outputs": [],
   "source": [
    "import video_formater as vf\n",
    "vid_path=vf.convert2pmt('D:/notebook_test/single_test.avi',30,vid_type='.avi')#vid_type can take in .mp4 or .avi"
   ]
  },
  {
   "cell_type": "code",
   "execution_count": 4,
   "metadata": {},
   "outputs": [
    {
     "name": "stdout",
     "output_type": "stream",
     "text": [
      "Starting to yolov4 and motion detection process on  D:/notebook_test/single_test/raw.avi\n"
     ]
    },
    {
     "name": "stderr",
     "output_type": "stream",
     "text": [
      "100%|██████████████████████████████████████████████████████████████████████████████| 8758/8758 [03:19<00:00, 43.99it/s]"
     ]
    },
    {
     "name": "stdout",
     "output_type": "stream",
     "text": [
      "Mice Detection and motion detection complete for folder D:/notebook_test/single_test\n",
      "Results saved in D:/notebook_test/single_test/yolo_dets.csv\n",
      "0 Tags were read in 0.0002918243408203125 seconds\n"
     ]
    },
    {
     "name": "stderr",
     "output_type": "stream",
     "text": [
      "\n",
      "Assigning Sort ID to bboxes: 100%|███████████████████████████████████████████████| 8758/8758 [00:02<00:00, 4316.41it/s]\n",
      "Checking frames for occlusions/yolov4 fails: 100%|█████████████████████████████| 8758/8758 [00:00<00:00, 547398.36it/s]\n",
      "Checking Kalmen filter predictions at frames with occlusions/yolov4 fails: 0it [00:00, ?it/s]\n"
     ]
    },
    {
     "name": "stdout",
     "output_type": "stream",
     "text": [
      "Removed sort ids [] for possible false positives\n"
     ]
    },
    {
     "name": "stderr",
     "output_type": "stream",
     "text": [
      "Matching last tag in frame: 100%|████████████████████████████████████████████████| 7354/7354 [00:04<00:00, 1767.79it/s]\n"
     ]
    },
    {
     "name": "stdout",
     "output_type": "stream",
     "text": [
      "100.0 % of mice detected were matched with an RFID tag\n",
      "csv file saved at D:/notebook_test/single_test/RFID_tracks.csv\n"
     ]
    },
    {
     "name": "stderr",
     "output_type": "stream",
     "text": [
      "\r",
      "Generating Individual Rodent Trajectory:   0%|                                                   | 0/1 [00:00<?, ?it/s]"
     ]
    },
    {
     "name": "stdout",
     "output_type": "stream",
     "text": [
      "\n",
      "\n",
      "\n",
      "\n",
      "\n",
      "\n",
      "\n",
      "\n",
      "\n",
      "\n"
     ]
    },
    {
     "name": "stderr",
     "output_type": "stream",
     "text": [
      "Generating Individual Rodent Trajectory: 100%|███████████████████████████████████████████| 1/1 [00:00<00:00,  1.79it/s]\n"
     ]
    }
   ],
   "source": [
    "#performs the analysis with the normal PMT pipeline\n",
    "config_path = 'D:/trainer/config.ini'\n",
    "test=PRT_analysis(vid_path,config_path)\n",
    "test.detect_mice() #detects mice\n",
    "test.load_RFID() #loads the readings from rfid readers \n",
    "test.load_dets() #loads the detections made by Yolo\n",
    "test.RFID_match() #starts the Sort-ID generation and matching with RFID readings\n",
    "test.find_activte_mice() # finds mice that were active\n",
    "test.compile_travel_trjectories() #generates individual travel trajectories of each mouse"
   ]
  },
  {
   "cell_type": "code",
   "execution_count": 5,
   "metadata": {},
   "outputs": [
    {
     "name": "stderr",
     "output_type": "stream",
     "text": [
      "                                                                                                                       \r"
     ]
    }
   ],
   "source": [
    "#Generates track video for verifications\n",
    "test.generate_track_video()"
   ]
  }
 ],
 "metadata": {
  "kernelspec": {
   "display_name": "Python 3 (ipykernel)",
   "language": "python",
   "name": "python3"
  },
  "language_info": {
   "codemirror_mode": {
    "name": "ipython",
    "version": 3
   },
   "file_extension": ".py",
   "mimetype": "text/x-python",
   "name": "python",
   "nbconvert_exporter": "python",
   "pygments_lexer": "ipython3",
   "version": "3.7.0"
  }
 },
 "nbformat": 4,
 "nbformat_minor": 4
}
